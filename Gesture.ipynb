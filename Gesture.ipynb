{
 "cells": [
  {
   "cell_type": "code",
   "execution_count": 1,
   "metadata": {},
   "outputs": [],
   "source": [
    "import pigpio\n",
    "import math\n",
    "from time import sleep\n",
    "import numpy as np\n"
   ]
  },
  {
   "cell_type": "code",
   "execution_count": 2,
   "metadata": {},
   "outputs": [
    {
     "name": "stdout",
     "output_type": "stream",
     "text": [
      "23               bytearray(b'\\xff\\xff\\xff\\xff\\xff\\xff\\xff\\xff\\xff\\xff\\xff\\xff\\xff\\xff\\xff\\xff\\xff\\xff\\xff\\xff\\xff\\xff\\xff')\n"
     ]
    }
   ],
   "source": [
    "\n",
    "class TLV493D:\n",
    "    \n",
    "    \"\"\"Class of 3D Magnetic Sensor TLV493D.\n",
    "    \"\"\"\n",
    "                                                                                                                                                      \n",
    "      \n",
    "    bx = 0\n",
    "    by = 0\n",
    "    bz = 0 \n",
    "    temp = 0\n",
    "    data =[]\n",
    "    pi = pigpio.pi()\n",
    "\n",
    "    addr = 0x35\n",
    "    channel = 1\n",
    "    \n",
    "    \n",
    "    h = pi.i2c_open(channel, addr)\n",
    "    (count, data) = pi.i2c_read_device(h, 23)\n",
    "    print(count,\"             \",data)\n",
    "    \n",
    "    \n",
    "    \n",
    "\n",
    "    def initialize(self): \n",
    "        \"\"\" Read data from register\n",
    "        \"\"\"\n",
    "        global data\n",
    "        \n",
    "        self.pi.i2c_write_byte_data(self.h, 0x11, 21)\n",
    "        self.pi.i2c_write_byte_data(self.h, 0x10, 32)\n",
    "        sleep(60e-6)\n",
    "        (count, data) = self.pi.i2c_read_device(self.h, 23)\n",
    "        print(data) \n",
    "        \n",
    "    def initialize_FM(self):\n",
    "        self.pi.i2c_write_byte_data(self.h, 0x11, 0x13)\n",
    "        self.pi.i2c_write_byte_data(self.h, 0x10, 0x00)\n",
    "        sleep(60e-6)\n",
    "        \n",
    "    def update_data (self):\n",
    "        global data\n",
    "        (count, data) = self.pi.i2c_read_device(self.h, 6)\n",
    "        # print(data)\n",
    "        \n",
    "    def get_x(self):\n",
    "        \"\"\" Get the value of X coordinate\n",
    "            \n",
    "            Returns:\n",
    "            \n",
    "            int: X coordinate\n",
    "        \"\"\"\n",
    "        \n",
    "        self.bx = (data[0] << 8) or (((data[4] >> 4) & 0x0f)<<4)\n",
    "        self.bx >>= 4\n",
    "        \n",
    "        self.bx *=0.13\n",
    "            \n",
    "        return self.bx\n",
    "    \n",
    "    \n",
    "    \n",
    "    \n",
    "    def get_y(self):\n",
    "        \"\"\" Get the value of Y coordinate\n",
    "            \n",
    "            Returns:\n",
    "            \n",
    "            int: Y coordinate\n",
    "        \"\"\"\n",
    "        self.by = (data[1] << 8) or ((data[4] & 0x0f)<<4)\n",
    "        self.by >>= 4\n",
    "        \n",
    "        self.by *=0.13          \n",
    "        return self.by\n",
    "    \n",
    "    \n",
    "    \n",
    "    \n",
    "    def get_z(self):\n",
    "        \"\"\" Get the value of Z coordinate\n",
    "            \n",
    "            Returns:\n",
    "            \n",
    "            int: Z coordinate\n",
    "        \"\"\"\n",
    "        \n",
    "        self.bz = (data[2] << 8) or ((data[5] & 0x0f)<<4)\n",
    "        \n",
    "        self.bz >>= 4\n",
    "        \n",
    "        self.bz *=0.13\n",
    "        return self.bz\n",
    "    \n",
    "    \n",
    "    \n",
    "    def get_br(self):\n",
    "        \"\"\" Calculate the radial value\n",
    "            \n",
    "            Returns:\n",
    "            \n",
    "            double : radial value\n",
    "        \"\"\"\n",
    "        \n",
    "        br = math.sqrt(self.bx*self.bx+self.by*self.by+self.bz*self.bz)\n",
    "        \n",
    "        return br\n",
    "    \n",
    "    \n",
    "    \n",
    "    \n",
    "    def get_polar(self):\n",
    "        \"\"\" Calculate the polar value\n",
    "            \n",
    "            Returns:\n",
    "            \n",
    "            double: polar value\n",
    "        \"\"\"\n",
    "        \n",
    "        polar = math.cos(math.atan2(self.bz,math.sqrt(self.bx*self.bx+self.by*self.by)))\n",
    "        \n",
    "        return polar\n",
    "    \n",
    "    \n",
    "    \n",
    "    \n",
    "    def get_azimuth(self):\n",
    "        \"\"\" Calculate the azimuthal value\n",
    "            \n",
    "            Returns:\n",
    "            \n",
    "            double: azimuthal value\n",
    "        \"\"\"\n",
    "        \n",
    "        azimuth = math.atan2(self.by,self.bx)\n",
    "        \n",
    "        return azimuth\n",
    "  \n",
    "\n"
   ]
  },
  {
   "cell_type": "code",
   "execution_count": 5,
   "metadata": {},
   "outputs": [
    {
     "name": "stdout",
     "output_type": "stream",
     "text": [
      "bytearray(b'\\x0f\\x05\\x12K\\xa3D\\xcf\\x80\\x7f\\x80\\x7f\\x80\\x7f888 \\x154\\x00\\xff\\xff\\xc9')\n"
     ]
    }
   ],
   "source": [
    "mat = np.zeros((1,3),dtype=np.float64)\n",
    "tlv493d = TLV493D()\n",
    "tlv493d.initialize()\n",
    "# tlv493d.initialize_FM()\n",
    "for i in range (10000):\n",
    "    tlv493d.update_data()\n",
    "    x = tlv493d.get_x()\n",
    "    y = tlv493d.get_y()\n",
    "    z = tlv493d.get_z()\n",
    "    mat = np.vstack((mat, [x, y, z]))\n",
    "    # print(\"x: \", x, \"y: \", y, \"z: \",z)\n",
    "    # if (((x>0.26) and (x<300)) and ((y>0.26) and (y<300))):\n",
    "    #     mat = np.vstack((mat, [x, y, z]))\n",
    "    #     # print(\"x: \", x, \"y: \", y, \"z: \",z)\n",
    "    sleep (200e-6)\n",
    "\n"
   ]
  },
  {
   "cell_type": "code",
   "execution_count": 25,
   "metadata": {},
   "outputs": [
    {
     "name": "stdout",
     "output_type": "stream",
     "text": [
      "[[0. 0. 0.]]\n",
      "(1, 3)\n"
     ]
    }
   ],
   "source": [
    "# mat.tofile('data1.csv', sep = ',')\n",
    "print(mat)\n",
    "print(mat.shape)"
   ]
  },
  {
   "cell_type": "code",
   "execution_count": 25,
   "metadata": {},
   "outputs": [
    {
     "data": {
      "image/png": "[encoded data removed]",
      "text/plain": [
       "<Figure size 432x288 with 1 Axes>"
      ]
     },
     "metadata": {
      "needs_background": "light"
     },
     "output_type": "display_data"
    }
   ],
   "source": [
    "import matplotlib.pyplot as plt\n",
    "\n",
    "plt.plot(mat[:,1])\n",
    " \n",
    "# Showing the above plot\n",
    "plt.show()"
   ]
  },
  {
   "cell_type": "code",
   "execution_count": 8,
   "metadata": {},
   "outputs": [
    {
     "name": "stderr",
     "output_type": "stream",
     "text": [
      "/home/pi/mic/lib/python3.9/site-packages/seaborn/_decorators.py:36: FutureWarning: Pass the following variable as a keyword arg: x. From version 0.12, the only valid positional argument will be `data`, and passing other arguments without an explicit keyword will result in an error or misinterpretation.\n",
      "  warnings.warn(\n"
     ]
    },
    {
     "data": {
      "image/png": "[encoded data removed]",
      "text/plain": [
       "<Figure size 432x288 with 1 Axes>"
      ]
     },
     "metadata": {
      "needs_background": "light"
     },
     "output_type": "display_data"
    }
   ],
   "source": [
    "import matplotlib.pyplot as plt\n",
    "import seaborn as sns\n",
    " \n",
    "\n",
    "ax = sns.stripplot(mat[:,2])\n",
    " \n",
    "# giving labels to x-axis and y-axis\n",
    "ax.set(xlabel ='Bz')\n",
    " \n",
    "# giving title to the plot\n",
    "plt.title('My first graph')\n",
    " \n",
    "# function to show plot\n",
    "plt.show()"
   ]
  },
  {
   "cell_type": "code",
   "execution_count": null,
   "metadata": {},
   "outputs": [],
   "source": []
  }
 ],
 "metadata": {
  "interpreter": {
   "hash": "2ad294941e2803b3aeff7f4aee641835d61ad2733abd9ff9a86bbb79773f5d7b"
  },
  "kernelspec": {
   "display_name": "Python 3.9.2 ('mic')",
   "language": "python",
   "name": "python3"
  },
  "language_info": {
   "codemirror_mode": {
    "name": "ipython",
    "version": 3
   },
   "file_extension": ".py",
   "mimetype": "text/x-python",
   "name": "python",
   "nbconvert_exporter": "python",
   "pygments_lexer": "ipython3",
   "version": "3.9.2"
  },
  "orig_nbformat": 4
 },
 "nbformat": 4,
 "nbformat_minor": 2
}
