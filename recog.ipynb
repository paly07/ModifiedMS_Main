{
 "cells": [
  {
   "cell_type": "code",
   "execution_count": 43,
   "metadata": {},
   "outputs": [
    {
     "name": "stdout",
     "output_type": "stream",
     "text": [
      ".\n",
      "\f\n",
      "\f\n"
     ]
    }
   ],
   "source": [
    "import cv2\n",
    "import pytesseract\n",
    "import numpy as np\n",
    "from pytesseract import Output\n",
    "from PIL import Image\n",
    "  \n",
    "#open image in png format\n",
    "# img_png = Image.open('./Images/data4.png')\n",
    "# img_png = img_png.convert('RGB') \n",
    "# #The image object is used to save the image in jpg format\n",
    "# img_png.save('./Images/data8.jpg') \n",
    "img_source = cv2.imread('./Images/data5.jpg')\n",
    "# d = pytesseract.image_to_data(img, output_type=Output.DICT)\n",
    "# print(d)\n",
    "kernel = np.ones ((5,5), np.uint8)\n",
    "\n",
    "gray_scaled1 = cv2.cvtColor(img_source, cv2.COLOR_BGR2GRAY)\n",
    "gray_image = 255 - gray_scaled1\n",
    "# print(np.count_nonzero(gray_scaled1==255))\n",
    "img_er = cv2.erode(gray_image, kernel, iterations=4)\n",
    "img_di = cv2.dilate(gray_image, kernel, iterations=2)\n",
    "# cv2.imshow('Erosion', img_er)\n",
    "# cv2.imshow('Dilation', img_di)\n",
    "\n",
    "ret,processed_img = cv2.threshold(np.array(img_di), 125, 255, cv2.THRESH_BINARY)\n",
    "# cv2.imshow('Processed', processed_img)\n",
    "# cv2.waitKey(0)\n",
    "config = ('-l eng --psm 13')\n",
    "h = pytesseract.image_to_string(255 - processed_img, config=config )#\"--psm 7 outputbase digits\")\n",
    "print(h)\n",
    "s = pytesseract.image_to_string(255 - processed_img, config=\"--psm 7 outputbase digits\")\n",
    "print(s)"
   ]
  },
  {
   "cell_type": "code",
   "execution_count": 12,
   "metadata": {},
   "outputs": [],
   "source": [
    "def get_grayscale(image):\n",
    "    return cv2.cvtColor(image, cv2.COLOR_BGR2GRAY)\n",
    " \n",
    " \n",
    "def thresholding(image):\n",
    "    return cv2.threshold(image, 0, 255, cv2.THRESH_BINARY + cv2.THRESH_OTSU)[1]\n",
    " \n",
    " \n",
    "def opening(image):\n",
    "    kernel = np.ones((5, 5), np.uint8)\n",
    "    return cv2.morphologyEx(image, cv2.MORPH_OPEN, kernel)\n",
    " \n",
    " \n",
    "def canny(image):\n",
    "    return cv2.Canny(image, 100, 200)\n",
    " \n",
    " \n",
    "gray = get_grayscale(img_source)\n",
    "thresh = thresholding(gray)\n",
    "opening = opening(gray)\n",
    "canny = canny(gray)\n",
    " \n",
    "for img in [img_source, gray, thresh, opening, canny]:\n",
    "    d = pytesseract.image_to_data(img, output_type=Output.DICT)\n",
    "    n_boxes = len(d['text'])\n",
    " \n",
    "    # back to RGB\n",
    "    if len(img.shape) == 2:\n",
    "        img = cv2.cvtColor(img, cv2.COLOR_GRAY2RGB)\n",
    " \n",
    "    for i in range(n_boxes):\n",
    "        if int(d['conf'][i]) > 60:\n",
    "            (text, x, y, w, h) = (d['text'][i], d['left'][i], d['top'][i], d['width'][i], d['height'][i])\n",
    "            # don't show empty text\n",
    "            if text and text.strip() != \"\":\n",
    "                img = cv2.rectangle(img, (x, y), (x + w, y + h), (0, 255, 0), 2)\n",
    "                img = cv2.putText(img, text, (x, y - 10), cv2.FONT_HERSHEY_SIMPLEX, 1.2, (0, 255, 0), 3)\n",
    " \n",
    "    cv2.imshow('img', img)\n",
    "    cv2.waitKey(0)"
   ]
  }
 ],
 "metadata": {
  "interpreter": {
   "hash": "2ad294941e2803b3aeff7f4aee641835d61ad2733abd9ff9a86bbb79773f5d7b"
  },
  "kernelspec": {
   "display_name": "Python 3.9.2 ('mic')",
   "language": "python",
   "name": "python3"
  },
  "language_info": {
   "codemirror_mode": {
    "name": "ipython",
    "version": 3
   },
   "file_extension": ".py",
   "mimetype": "text/x-python",
   "name": "python",
   "nbconvert_exporter": "python",
   "pygments_lexer": "ipython3",
   "version": "3.9.2"
  },
  "orig_nbformat": 4
 },
 "nbformat": 4,
 "nbformat_minor": 2
}
